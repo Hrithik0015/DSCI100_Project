{
 "cells": [
  {
   "cell_type": "markdown",
   "metadata": {},
   "source": [
    "# **The use of pulsar signal data in pulsar candidate labeling (and classification?)**"
   ]
  },
  {
   "cell_type": "markdown",
   "metadata": {},
   "source": [
    "### **Introduction**"
   ]
  },
  {
   "cell_type": "markdown",
   "metadata": {},
   "source": []
  },
  {
   "cell_type": "markdown",
   "metadata": {},
   "source": [
    "### **Methods and Results**"
   ]
  },
  {
   "cell_type": "code",
   "execution_count": 21,
   "metadata": {},
   "outputs": [],
   "source": [
    "# Loading the necessary libraries and setting seed for data reproducibility\n",
    "library(repr)\n",
    "library(tidyverse)\n",
    "library(tidymodels)\n",
    "options(repr.matrix.max.rows = 6)\n",
    "set.seed(2021)"
   ]
  },
  {
   "cell_type": "markdown",
   "metadata": {},
   "source": [
    "Reading Pulsar dataset from Google drive and formatting column names"
   ]
  },
  {
   "cell_type": "code",
   "execution_count": 2,
   "metadata": {},
   "outputs": [
    {
     "name": "stderr",
     "output_type": "stream",
     "text": [
      "Parsed with column specification:\n",
      "cols(\n",
      "  `Mean of the integrated profile` = \u001b[32mcol_double()\u001b[39m,\n",
      "  `Standard deviation of the integrated profile` = \u001b[32mcol_double()\u001b[39m,\n",
      "  `Excess kurtosis of the integrated profile` = \u001b[32mcol_double()\u001b[39m,\n",
      "  `Skewness of the integrated profile` = \u001b[32mcol_double()\u001b[39m,\n",
      "  `Mean of the DM-SNR curve` = \u001b[32mcol_double()\u001b[39m,\n",
      "  `Standard deviation of the DM-SNR curve` = \u001b[32mcol_double()\u001b[39m,\n",
      "  `Excess kurtosis of the DM-SNR curve` = \u001b[32mcol_double()\u001b[39m,\n",
      "  `Skewness of the DM-SNR curve` = \u001b[32mcol_double()\u001b[39m,\n",
      "  target_class = \u001b[32mcol_double()\u001b[39m\n",
      ")\n",
      "\n"
     ]
    },
    {
     "data": {
      "text/html": [
       "<table>\n",
       "<caption>A spec_tbl_df: 12528 × 9</caption>\n",
       "<thead>\n",
       "\t<tr><th scope=col>Mean.of.the.integrated.profile</th><th scope=col>Standard.deviation.of.the.integrated.profile</th><th scope=col>Excess.kurtosis.of.the.integrated.profile</th><th scope=col>Skewness.of.the.integrated.profile</th><th scope=col>Mean.of.the.DM.SNR.curve</th><th scope=col>Standard.deviation.of.the.DM.SNR.curve</th><th scope=col>Excess.kurtosis.of.the.DM.SNR.curve</th><th scope=col>Skewness.of.the.DM.SNR.curve</th><th scope=col>target_class</th></tr>\n",
       "\t<tr><th scope=col>&lt;dbl&gt;</th><th scope=col>&lt;dbl&gt;</th><th scope=col>&lt;dbl&gt;</th><th scope=col>&lt;dbl&gt;</th><th scope=col>&lt;dbl&gt;</th><th scope=col>&lt;dbl&gt;</th><th scope=col>&lt;dbl&gt;</th><th scope=col>&lt;dbl&gt;</th><th scope=col>&lt;fct&gt;</th></tr>\n",
       "</thead>\n",
       "<tbody>\n",
       "\t<tr><td>121.15625</td><td>48.37297</td><td>0.3754847</td><td>-0.01316549</td><td>3.168896</td><td>18.39937</td><td>7.449874</td><td> 65.15930</td><td>0</td></tr>\n",
       "\t<tr><td> 76.96875</td><td>36.17556</td><td>0.7128979</td><td> 3.38871856</td><td>2.399666</td><td>17.57100</td><td>9.414652</td><td>102.72297</td><td>0</td></tr>\n",
       "\t<tr><td>130.58594</td><td>53.22953</td><td>0.1334083</td><td>-0.29724164</td><td>2.743311</td><td>22.36255</td><td>8.508364</td><td> 74.03132</td><td>0</td></tr>\n",
       "\t<tr><td>⋮</td><td>⋮</td><td>⋮</td><td>⋮</td><td>⋮</td><td>⋮</td><td>⋮</td><td>⋮</td><td>⋮</td></tr>\n",
       "\t<tr><td>116.0312</td><td>43.21385</td><td> 0.66345569</td><td> 0.4330880</td><td>0.7851171</td><td>11.62815</td><td>17.055215</td><td>312.20433</td><td>0</td></tr>\n",
       "\t<tr><td>135.6641</td><td>49.93375</td><td>-0.08994031</td><td>-0.2267262</td><td>3.8595318</td><td>21.50150</td><td> 7.398395</td><td> 62.33402</td><td>0</td></tr>\n",
       "\t<tr><td>120.7266</td><td>50.47226</td><td> 0.34617808</td><td> 0.1847972</td><td>0.7692308</td><td>11.79260</td><td>17.662222</td><td>329.54802</td><td>0</td></tr>\n",
       "</tbody>\n",
       "</table>\n"
      ],
      "text/latex": [
       "A spec\\_tbl\\_df: 12528 × 9\n",
       "\\begin{tabular}{lllllllll}\n",
       " Mean.of.the.integrated.profile & Standard.deviation.of.the.integrated.profile & Excess.kurtosis.of.the.integrated.profile & Skewness.of.the.integrated.profile & Mean.of.the.DM.SNR.curve & Standard.deviation.of.the.DM.SNR.curve & Excess.kurtosis.of.the.DM.SNR.curve & Skewness.of.the.DM.SNR.curve & target\\_class\\\\\n",
       " <dbl> & <dbl> & <dbl> & <dbl> & <dbl> & <dbl> & <dbl> & <dbl> & <fct>\\\\\n",
       "\\hline\n",
       "\t 121.15625 & 48.37297 & 0.3754847 & -0.01316549 & 3.168896 & 18.39937 & 7.449874 &  65.15930 & 0\\\\\n",
       "\t  76.96875 & 36.17556 & 0.7128979 &  3.38871856 & 2.399666 & 17.57100 & 9.414652 & 102.72297 & 0\\\\\n",
       "\t 130.58594 & 53.22953 & 0.1334083 & -0.29724164 & 2.743311 & 22.36255 & 8.508364 &  74.03132 & 0\\\\\n",
       "\t ⋮ & ⋮ & ⋮ & ⋮ & ⋮ & ⋮ & ⋮ & ⋮ & ⋮\\\\\n",
       "\t 116.0312 & 43.21385 &  0.66345569 &  0.4330880 & 0.7851171 & 11.62815 & 17.055215 & 312.20433 & 0\\\\\n",
       "\t 135.6641 & 49.93375 & -0.08994031 & -0.2267262 & 3.8595318 & 21.50150 &  7.398395 &  62.33402 & 0\\\\\n",
       "\t 120.7266 & 50.47226 &  0.34617808 &  0.1847972 & 0.7692308 & 11.79260 & 17.662222 & 329.54802 & 0\\\\\n",
       "\\end{tabular}\n"
      ],
      "text/markdown": [
       "\n",
       "A spec_tbl_df: 12528 × 9\n",
       "\n",
       "| Mean.of.the.integrated.profile &lt;dbl&gt; | Standard.deviation.of.the.integrated.profile &lt;dbl&gt; | Excess.kurtosis.of.the.integrated.profile &lt;dbl&gt; | Skewness.of.the.integrated.profile &lt;dbl&gt; | Mean.of.the.DM.SNR.curve &lt;dbl&gt; | Standard.deviation.of.the.DM.SNR.curve &lt;dbl&gt; | Excess.kurtosis.of.the.DM.SNR.curve &lt;dbl&gt; | Skewness.of.the.DM.SNR.curve &lt;dbl&gt; | target_class &lt;fct&gt; |\n",
       "|---|---|---|---|---|---|---|---|---|\n",
       "| 121.15625 | 48.37297 | 0.3754847 | -0.01316549 | 3.168896 | 18.39937 | 7.449874 |  65.15930 | 0 |\n",
       "|  76.96875 | 36.17556 | 0.7128979 |  3.38871856 | 2.399666 | 17.57100 | 9.414652 | 102.72297 | 0 |\n",
       "| 130.58594 | 53.22953 | 0.1334083 | -0.29724164 | 2.743311 | 22.36255 | 8.508364 |  74.03132 | 0 |\n",
       "| ⋮ | ⋮ | ⋮ | ⋮ | ⋮ | ⋮ | ⋮ | ⋮ | ⋮ |\n",
       "| 116.0312 | 43.21385 |  0.66345569 |  0.4330880 | 0.7851171 | 11.62815 | 17.055215 | 312.20433 | 0 |\n",
       "| 135.6641 | 49.93375 | -0.08994031 | -0.2267262 | 3.8595318 | 21.50150 |  7.398395 |  62.33402 | 0 |\n",
       "| 120.7266 | 50.47226 |  0.34617808 |  0.1847972 | 0.7692308 | 11.79260 | 17.662222 | 329.54802 | 0 |\n",
       "\n"
      ],
      "text/plain": [
       "      Mean.of.the.integrated.profile\n",
       "1     121.15625                     \n",
       "2      76.96875                     \n",
       "3     130.58594                     \n",
       "⋮     ⋮                             \n",
       "12526 116.0312                      \n",
       "12527 135.6641                      \n",
       "12528 120.7266                      \n",
       "      Standard.deviation.of.the.integrated.profile\n",
       "1     48.37297                                    \n",
       "2     36.17556                                    \n",
       "3     53.22953                                    \n",
       "⋮     ⋮                                           \n",
       "12526 43.21385                                    \n",
       "12527 49.93375                                    \n",
       "12528 50.47226                                    \n",
       "      Excess.kurtosis.of.the.integrated.profile\n",
       "1     0.3754847                                \n",
       "2     0.7128979                                \n",
       "3     0.1334083                                \n",
       "⋮     ⋮                                        \n",
       "12526  0.66345569                              \n",
       "12527 -0.08994031                              \n",
       "12528  0.34617808                              \n",
       "      Skewness.of.the.integrated.profile Mean.of.the.DM.SNR.curve\n",
       "1     -0.01316549                        3.168896                \n",
       "2      3.38871856                        2.399666                \n",
       "3     -0.29724164                        2.743311                \n",
       "⋮     ⋮                                  ⋮                       \n",
       "12526  0.4330880                         0.7851171               \n",
       "12527 -0.2267262                         3.8595318               \n",
       "12528  0.1847972                         0.7692308               \n",
       "      Standard.deviation.of.the.DM.SNR.curve\n",
       "1     18.39937                              \n",
       "2     17.57100                              \n",
       "3     22.36255                              \n",
       "⋮     ⋮                                     \n",
       "12526 11.62815                              \n",
       "12527 21.50150                              \n",
       "12528 11.79260                              \n",
       "      Excess.kurtosis.of.the.DM.SNR.curve Skewness.of.the.DM.SNR.curve\n",
       "1     7.449874                             65.15930                   \n",
       "2     9.414652                            102.72297                   \n",
       "3     8.508364                             74.03132                   \n",
       "⋮     ⋮                                   ⋮                           \n",
       "12526 17.055215                           312.20433                   \n",
       "12527  7.398395                            62.33402                   \n",
       "12528 17.662222                           329.54802                   \n",
       "      target_class\n",
       "1     0           \n",
       "2     0           \n",
       "3     0           \n",
       "⋮     ⋮           \n",
       "12526 0           \n",
       "12527 0           \n",
       "12528 0           "
      ]
     },
     "metadata": {},
     "output_type": "display_data"
    }
   ],
   "source": [
    "URL_data <- \"https://docs.google.com/uc?export=download&id=1oMc6YyUz0hIX6iOEmmauzMjxNB5iaNLv\"\n",
    "\n",
    "pulsar_data <- read_csv(URL_data) %>%\n",
    "    mutate(target_class = as.factor(target_class))\n",
    "\n",
    "colnames(pulsar_data) <- make.names(colnames(pulsar_data))\n",
    "\n",
    "pulsar_data"
   ]
  },
  {
   "cell_type": "markdown",
   "metadata": {},
   "source": [
    "Selecting only the columns required, and filtering to remove \"NA\""
   ]
  },
  {
   "cell_type": "code",
   "execution_count": 3,
   "metadata": {},
   "outputs": [
    {
     "name": "stderr",
     "output_type": "stream",
     "text": [
      "`summarise()` ungrouping output (override with `.groups` argument)\n",
      "\n"
     ]
    },
    {
     "data": {
      "text/html": [
       "<table>\n",
       "<caption>A tibble: 2 × 3</caption>\n",
       "<thead>\n",
       "\t<tr><th scope=col>target_class</th><th scope=col>n</th><th scope=col>percentage</th></tr>\n",
       "\t<tr><th scope=col>&lt;fct&gt;</th><th scope=col>&lt;int&gt;</th><th scope=col>&lt;dbl&gt;</th></tr>\n",
       "</thead>\n",
       "<tbody>\n",
       "\t<tr><td>0</td><td>9798</td><td>90.781062</td></tr>\n",
       "\t<tr><td>1</td><td> 995</td><td> 9.218938</td></tr>\n",
       "</tbody>\n",
       "</table>\n"
      ],
      "text/latex": [
       "A tibble: 2 × 3\n",
       "\\begin{tabular}{lll}\n",
       " target\\_class & n & percentage\\\\\n",
       " <fct> & <int> & <dbl>\\\\\n",
       "\\hline\n",
       "\t 0 & 9798 & 90.781062\\\\\n",
       "\t 1 &  995 &  9.218938\\\\\n",
       "\\end{tabular}\n"
      ],
      "text/markdown": [
       "\n",
       "A tibble: 2 × 3\n",
       "\n",
       "| target_class &lt;fct&gt; | n &lt;int&gt; | percentage &lt;dbl&gt; |\n",
       "|---|---|---|\n",
       "| 0 | 9798 | 90.781062 |\n",
       "| 1 |  995 |  9.218938 |\n",
       "\n"
      ],
      "text/plain": [
       "  target_class n    percentage\n",
       "1 0            9798 90.781062 \n",
       "2 1             995  9.218938 "
      ]
     },
     "metadata": {},
     "output_type": "display_data"
    }
   ],
   "source": [
    "pulsar <- pulsar_data %>%\n",
    "    select(Mean.of.the.integrated.profile,\n",
    "           Excess.kurtosis.of.the.integrated.profile,\n",
    "           target_class) %>%\n",
    "    filter(Excess.kurtosis.of.the.integrated.profile != \"NA\")\n",
    "\n",
    "num_obs <- nrow(pulsar)\n",
    "pulsar %>%\n",
    "  group_by(target_class) %>%\n",
    "  summarize(n = n(),\n",
    "            percentage = n() / num_obs * 100)"
   ]
  },
  {
   "cell_type": "markdown",
   "metadata": {},
   "source": [
    "Splitting data into training and testing dataset"
   ]
  },
  {
   "cell_type": "code",
   "execution_count": 4,
   "metadata": {},
   "outputs": [],
   "source": [
    "pulsar_split <- initial_split(pulsar, prop = 0.75, strata = target_class)\n",
    "\n",
    "pulsar_training <- training(pulsar_split)\n",
    "pulsar_testing <- testing(pulsar_split)"
   ]
  },
  {
   "cell_type": "markdown",
   "metadata": {},
   "source": [
    "Standardizing training dataset using recipe"
   ]
  },
  {
   "cell_type": "code",
   "execution_count": 5,
   "metadata": {},
   "outputs": [],
   "source": [
    "pulsar_recipe <- recipe(target_class ~ ., data = pulsar_training) %>%\n",
    "    step_scale(all_predictors()) %>%\n",
    "    step_center(all_predictors())"
   ]
  },
  {
   "cell_type": "markdown",
   "metadata": {},
   "source": [
    "Building a model to find the best k value"
   ]
  },
  {
   "cell_type": "code",
   "execution_count": 6,
   "metadata": {},
   "outputs": [],
   "source": [
    "pulsar_spec <- nearest_neighbor(weight_func = \"rectangular\", neighbors = tune()) %>%\n",
    "    set_engine(\"kknn\") %>%\n",
    "    set_mode(\"classification\")"
   ]
  },
  {
   "cell_type": "markdown",
   "metadata": {},
   "source": [
    "Creating v fold"
   ]
  },
  {
   "cell_type": "code",
   "execution_count": 7,
   "metadata": {},
   "outputs": [],
   "source": [
    "pulsar_vfold <- vfold_cv(pulsar_training, v = 5, strata = target_class)"
   ]
  },
  {
   "cell_type": "markdown",
   "metadata": {},
   "source": [
    "Fitting the model"
   ]
  },
  {
   "cell_type": "code",
   "execution_count": 8,
   "metadata": {},
   "outputs": [
    {
     "data": {
      "text/html": [
       "<table>\n",
       "<caption>A tibble: 18 × 7</caption>\n",
       "<thead>\n",
       "\t<tr><th scope=col>neighbors</th><th scope=col>.metric</th><th scope=col>.estimator</th><th scope=col>mean</th><th scope=col>n</th><th scope=col>std_err</th><th scope=col>.config</th></tr>\n",
       "\t<tr><th scope=col>&lt;int&gt;</th><th scope=col>&lt;chr&gt;</th><th scope=col>&lt;chr&gt;</th><th scope=col>&lt;dbl&gt;</th><th scope=col>&lt;int&gt;</th><th scope=col>&lt;dbl&gt;</th><th scope=col>&lt;chr&gt;</th></tr>\n",
       "</thead>\n",
       "<tbody>\n",
       "\t<tr><td>2</td><td>accuracy</td><td>binary</td><td>0.9678814</td><td>5</td><td>0.001893726</td><td>Model1</td></tr>\n",
       "\t<tr><td>2</td><td>roc_auc </td><td>binary</td><td>0.9324038</td><td>5</td><td>0.004948512</td><td>Model1</td></tr>\n",
       "\t<tr><td>3</td><td>accuracy</td><td>binary</td><td>0.9773935</td><td>5</td><td>0.001361668</td><td>Model2</td></tr>\n",
       "\t<tr><td>⋮</td><td>⋮</td><td>⋮</td><td>⋮</td><td>⋮</td><td>⋮</td><td>⋮</td></tr>\n",
       "\t<tr><td>12</td><td>roc_auc </td><td>binary</td><td>0.9540467</td><td>5</td><td>0.006748329</td><td>Model8</td></tr>\n",
       "\t<tr><td>14</td><td>accuracy</td><td>binary</td><td>0.9798641</td><td>5</td><td>0.001709494</td><td>Model9</td></tr>\n",
       "\t<tr><td>14</td><td>roc_auc </td><td>binary</td><td>0.9562052</td><td>5</td><td>0.006537893</td><td>Model9</td></tr>\n",
       "</tbody>\n",
       "</table>\n"
      ],
      "text/latex": [
       "A tibble: 18 × 7\n",
       "\\begin{tabular}{lllllll}\n",
       " neighbors & .metric & .estimator & mean & n & std\\_err & .config\\\\\n",
       " <int> & <chr> & <chr> & <dbl> & <int> & <dbl> & <chr>\\\\\n",
       "\\hline\n",
       "\t 2 & accuracy & binary & 0.9678814 & 5 & 0.001893726 & Model1\\\\\n",
       "\t 2 & roc\\_auc  & binary & 0.9324038 & 5 & 0.004948512 & Model1\\\\\n",
       "\t 3 & accuracy & binary & 0.9773935 & 5 & 0.001361668 & Model2\\\\\n",
       "\t ⋮ & ⋮ & ⋮ & ⋮ & ⋮ & ⋮ & ⋮\\\\\n",
       "\t 12 & roc\\_auc  & binary & 0.9540467 & 5 & 0.006748329 & Model8\\\\\n",
       "\t 14 & accuracy & binary & 0.9798641 & 5 & 0.001709494 & Model9\\\\\n",
       "\t 14 & roc\\_auc  & binary & 0.9562052 & 5 & 0.006537893 & Model9\\\\\n",
       "\\end{tabular}\n"
      ],
      "text/markdown": [
       "\n",
       "A tibble: 18 × 7\n",
       "\n",
       "| neighbors &lt;int&gt; | .metric &lt;chr&gt; | .estimator &lt;chr&gt; | mean &lt;dbl&gt; | n &lt;int&gt; | std_err &lt;dbl&gt; | .config &lt;chr&gt; |\n",
       "|---|---|---|---|---|---|---|\n",
       "| 2 | accuracy | binary | 0.9678814 | 5 | 0.001893726 | Model1 |\n",
       "| 2 | roc_auc  | binary | 0.9324038 | 5 | 0.004948512 | Model1 |\n",
       "| 3 | accuracy | binary | 0.9773935 | 5 | 0.001361668 | Model2 |\n",
       "| ⋮ | ⋮ | ⋮ | ⋮ | ⋮ | ⋮ | ⋮ |\n",
       "| 12 | roc_auc  | binary | 0.9540467 | 5 | 0.006748329 | Model8 |\n",
       "| 14 | accuracy | binary | 0.9798641 | 5 | 0.001709494 | Model9 |\n",
       "| 14 | roc_auc  | binary | 0.9562052 | 5 | 0.006537893 | Model9 |\n",
       "\n"
      ],
      "text/plain": [
       "   neighbors .metric  .estimator mean      n std_err     .config\n",
       "1  2         accuracy binary     0.9678814 5 0.001893726 Model1 \n",
       "2  2         roc_auc  binary     0.9324038 5 0.004948512 Model1 \n",
       "3  3         accuracy binary     0.9773935 5 0.001361668 Model2 \n",
       "⋮  ⋮         ⋮        ⋮          ⋮         ⋮ ⋮           ⋮      \n",
       "16 12        roc_auc  binary     0.9540467 5 0.006748329 Model8 \n",
       "17 14        accuracy binary     0.9798641 5 0.001709494 Model9 \n",
       "18 14        roc_auc  binary     0.9562052 5 0.006537893 Model9 "
      ]
     },
     "metadata": {},
     "output_type": "display_data"
    }
   ],
   "source": [
    "pulsar_workflow <- workflow() %>%\n",
    "    add_recipe(pulsar_recipe) %>%\n",
    "    add_model(pulsar_spec) %>%\n",
    "    tune_grid(resamples = pulsar_vfold, grid = 10) %>%\n",
    "    collect_metrics()\n",
    "\n",
    "pulsar_workflow"
   ]
  },
  {
   "cell_type": "markdown",
   "metadata": {},
   "source": [
    "Assigning k min"
   ]
  },
  {
   "cell_type": "code",
   "execution_count": 9,
   "metadata": {},
   "outputs": [
    {
     "data": {
      "text/html": [
       "8"
      ],
      "text/latex": [
       "8"
      ],
      "text/markdown": [
       "8"
      ],
      "text/plain": [
       "[1] 8"
      ]
     },
     "metadata": {},
     "output_type": "display_data"
    }
   ],
   "source": [
    "kmin <- pulsar_workflow %>%\n",
    "    filter(.metric == \"accuracy\") %>%\n",
    "    filter(mean == max(mean)) %>%\n",
    "    pull(neighbors)\n",
    "\n",
    "kmin"
   ]
  },
  {
   "cell_type": "markdown",
   "metadata": {},
   "source": [
    "Rebuilding model with best k value"
   ]
  },
  {
   "cell_type": "code",
   "execution_count": 13,
   "metadata": {},
   "outputs": [],
   "source": [
    "pulsar_model <- nearest_neighbor(weight_func = \"rectangular\", neighbors = kmin) %>%\n",
    "    set_engine(\"kknn\") %>%\n",
    "    set_mode(\"classification\")"
   ]
  },
  {
   "cell_type": "markdown",
   "metadata": {},
   "source": [
    "Fitting the model to training dataset"
   ]
  },
  {
   "cell_type": "code",
   "execution_count": 14,
   "metadata": {},
   "outputs": [],
   "source": [
    "pulsar_fit <- workflow() %>%\n",
    "    add_recipe(pulsar_recipe) %>%\n",
    "    add_model(pulsar_model) %>%\n",
    "    fit(data = pulsar_training)"
   ]
  },
  {
   "cell_type": "markdown",
   "metadata": {},
   "source": [
    "Predicting target_class for testing dataset using the model"
   ]
  },
  {
   "cell_type": "code",
   "execution_count": 16,
   "metadata": {},
   "outputs": [],
   "source": [
    "pulsar_prediction <- pulsar_fit %>%\n",
    "    predict(pulsar_testing) %>%\n",
    "    bind_cols(pulsar_testing)"
   ]
  },
  {
   "cell_type": "markdown",
   "metadata": {},
   "source": [
    "Accuracy Table"
   ]
  },
  {
   "cell_type": "code",
   "execution_count": 19,
   "metadata": {},
   "outputs": [
    {
     "data": {
      "text/html": [
       "<table>\n",
       "<caption>A tibble: 2 × 3</caption>\n",
       "<thead>\n",
       "\t<tr><th scope=col>.metric</th><th scope=col>.estimator</th><th scope=col>.estimate</th></tr>\n",
       "\t<tr><th scope=col>&lt;chr&gt;</th><th scope=col>&lt;chr&gt;</th><th scope=col>&lt;dbl&gt;</th></tr>\n",
       "</thead>\n",
       "<tbody>\n",
       "\t<tr><td>accuracy</td><td>binary</td><td>0.9733136</td></tr>\n",
       "\t<tr><td>kap     </td><td>binary</td><td>0.8366281</td></tr>\n",
       "</tbody>\n",
       "</table>\n"
      ],
      "text/latex": [
       "A tibble: 2 × 3\n",
       "\\begin{tabular}{lll}\n",
       " .metric & .estimator & .estimate\\\\\n",
       " <chr> & <chr> & <dbl>\\\\\n",
       "\\hline\n",
       "\t accuracy & binary & 0.9733136\\\\\n",
       "\t kap      & binary & 0.8366281\\\\\n",
       "\\end{tabular}\n"
      ],
      "text/markdown": [
       "\n",
       "A tibble: 2 × 3\n",
       "\n",
       "| .metric &lt;chr&gt; | .estimator &lt;chr&gt; | .estimate &lt;dbl&gt; |\n",
       "|---|---|---|\n",
       "| accuracy | binary | 0.9733136 |\n",
       "| kap      | binary | 0.8366281 |\n",
       "\n"
      ],
      "text/plain": [
       "  .metric  .estimator .estimate\n",
       "1 accuracy binary     0.9733136\n",
       "2 kap      binary     0.8366281"
      ]
     },
     "metadata": {},
     "output_type": "display_data"
    }
   ],
   "source": [
    "pulsar_acc <- pulsar_prediction %>%\n",
    "    metrics(truth = target_class, estimate = .pred_class)\n",
    "\n",
    "pulsar_acc"
   ]
  },
  {
   "cell_type": "markdown",
   "metadata": {},
   "source": [
    "Confusion Matrix"
   ]
  },
  {
   "cell_type": "code",
   "execution_count": 20,
   "metadata": {},
   "outputs": [
    {
     "data": {
      "text/plain": [
       "          Truth\n",
       "Prediction    0    1\n",
       "         0 2420   49\n",
       "         1   23  206"
      ]
     },
     "metadata": {},
     "output_type": "display_data"
    }
   ],
   "source": [
    "pulsar_conf_mat <- pulsar_prediction %>%\n",
    "    conf_mat(truth = target_class, estimate = .pred_class)\n",
    "\n",
    "pulsar_conf_mat"
   ]
  },
  {
   "cell_type": "code",
   "execution_count": null,
   "metadata": {},
   "outputs": [],
   "source": []
  },
  {
   "cell_type": "markdown",
   "metadata": {},
   "source": [
    "### **Discussion**"
   ]
  },
  {
   "cell_type": "code",
   "execution_count": null,
   "metadata": {},
   "outputs": [],
   "source": []
  },
  {
   "cell_type": "markdown",
   "metadata": {},
   "source": [
    "### **References**"
   ]
  },
  {
   "cell_type": "code",
   "execution_count": null,
   "metadata": {},
   "outputs": [],
   "source": []
  }
 ],
 "metadata": {
  "kernelspec": {
   "display_name": "R",
   "language": "R",
   "name": "ir"
  },
  "language_info": {
   "codemirror_mode": "r",
   "file_extension": ".r",
   "mimetype": "text/x-r-source",
   "name": "R",
   "pygments_lexer": "r",
   "version": "4.0.0"
  }
 },
 "nbformat": 4,
 "nbformat_minor": 4
}
